{
 "cells": [
  {
   "cell_type": "code",
   "execution_count": 1,
   "metadata": {
    "collapsed": true
   },
   "outputs": [],
   "source": [
    "%matplotlib inline"
   ]
  },
  {
   "cell_type": "code",
   "execution_count": 2,
   "metadata": {},
   "outputs": [
    {
     "name": "stderr",
     "output_type": "stream",
     "text": [
      "/Users/jeremy/anaconda/lib/python2.7/site-packages/h5py/__init__.py:34: FutureWarning: Conversion of the second argument of issubdtype from `float` to `np.floating` is deprecated. In future, it will be treated as `np.float64 == np.dtype(float).type`.\n",
      "  from ._conv import register_converters as _register_converters\n",
      "Using TensorFlow backend.\n"
     ]
    }
   ],
   "source": [
    "from keras.layers import Input, Dense, Conv2D, MaxPooling2D, UpSampling2D\n",
    "from keras.models import Model\n",
    "from keras import backend as K\n",
    "import gc"
   ]
  },
  {
   "cell_type": "code",
   "execution_count": 4,
   "metadata": {},
   "outputs": [],
   "source": [
    "input_img = Input(shape=(28, 28, 1))  # adapt this if using `channels_first` image data format\n",
    "\n",
    "x = Conv2D(16, (3, 3), activation='relu', padding='same')(input_img)\n",
    "x = MaxPooling2D((2, 2), padding='same')(x)  # size reduced\n",
    "x = Conv2D(8, (3, 3), activation='relu', padding='same')(x)\n",
    "x = MaxPooling2D((2, 2), padding='same')(x)\n",
    "x = Conv2D(8, (3, 3), activation='relu', padding='same')(x)\n",
    "encoded = MaxPooling2D((2, 2), padding='same')(x)\n",
    "\n",
    "# at this point the representation is (4, 4, 8) i.e. 128-dimensional\n",
    "\n",
    "x = Conv2D(8, (3, 3), activation='relu', padding='same')(encoded)  # (4, 4, 8)\n",
    "x = UpSampling2D((2, 2))(x)  # (8, 8, 8)\n",
    "x = Conv2D(8, (3, 3), activation='relu', padding='same')(x)\n",
    "x = UpSampling2D((2, 2))(x)\n",
    "x = Conv2D(16, (3, 3), activation='relu')(x)  # (14, 14, 16)\n",
    "x = UpSampling2D((2, 2))(x)  # (28, 28, 16)\n",
    "decoded = Conv2D(1, (3, 3), activation='sigmoid', padding='same')(x)  # (28, 28, 1)\n",
    "\n",
    "autoencoder = Model(input_img, decoded)\n",
    "autoencoder.compile(optimizer='adadelta', loss='binary_crossentropy')"
   ]
  },
  {
   "cell_type": "code",
   "execution_count": 5,
   "metadata": {
    "collapsed": true
   },
   "outputs": [],
   "source": [
    "from keras.datasets import mnist\n",
    "import numpy as np\n",
    "\n",
    "(x_train, _), (x_test, _) = mnist.load_data()\n",
    "\n",
    "x_train = x_train.astype('float32') / 255.\n",
    "x_test = x_test.astype('float32') / 255.\n",
    "x_train = np.reshape(x_train, (len(x_train), 28, 28, 1))  # adapt this if using `channels_first` image data format\n",
    "x_test = np.reshape(x_test, (len(x_test), 28, 28, 1))  # adapt this if using `channels_first` image data format"
   ]
  },
  {
   "cell_type": "code",
   "execution_count": 7,
   "metadata": {
    "scrolled": true
   },
   "outputs": [
    {
     "name": "stdout",
     "output_type": "stream",
     "text": [
      "Train on 60000 samples, validate on 10000 samples\n",
      "Epoch 1/50\n",
      "60000/60000 [==============================] - 76s 1ms/step - loss: 0.1346 - val_loss: 0.1312\n",
      "Epoch 2/50\n",
      "60000/60000 [==============================] - 69s 1ms/step - loss: 0.1298 - val_loss: 0.1249\n",
      "Epoch 3/50\n",
      "60000/60000 [==============================] - 70s 1ms/step - loss: 0.1257 - val_loss: 0.1239\n",
      "Epoch 4/50\n",
      "60000/60000 [==============================] - 69s 1ms/step - loss: 0.1225 - val_loss: 0.1227\n",
      "Epoch 5/50\n",
      "60000/60000 [==============================] - 69s 1ms/step - loss: 0.1204 - val_loss: 0.1191\n",
      "Epoch 6/50\n",
      "60000/60000 [==============================] - 69s 1ms/step - loss: 0.1183 - val_loss: 0.1156\n",
      "Epoch 7/50\n",
      "60000/60000 [==============================] - 71s 1ms/step - loss: 0.1168 - val_loss: 0.1142\n",
      "Epoch 8/50\n",
      "60000/60000 [==============================] - 77s 1ms/step - loss: 0.1156 - val_loss: 0.1148\n",
      "Epoch 9/50\n",
      "60000/60000 [==============================] - 76s 1ms/step - loss: 0.1146 - val_loss: 0.1146\n",
      "Epoch 10/50\n",
      "60000/60000 [==============================] - 69s 1ms/step - loss: 0.1136 - val_loss: 0.1106\n",
      "Epoch 11/50\n",
      "60000/60000 [==============================] - 70s 1ms/step - loss: 0.1126 - val_loss: 0.1130\n",
      "Epoch 12/50\n",
      "60000/60000 [==============================] - 69s 1ms/step - loss: 0.1117 - val_loss: 0.1095\n",
      "Epoch 13/50\n",
      "60000/60000 [==============================] - 69s 1ms/step - loss: 0.1114 - val_loss: 0.1101\n",
      "Epoch 14/50\n",
      "60000/60000 [==============================] - 70s 1ms/step - loss: 0.1109 - val_loss: 0.1100\n",
      "Epoch 15/50\n",
      "60000/60000 [==============================] - 70s 1ms/step - loss: 0.1101 - val_loss: 0.1100\n",
      "Epoch 16/50\n",
      "60000/60000 [==============================] - 70s 1ms/step - loss: 0.1097 - val_loss: 0.1093\n",
      "Epoch 17/50\n",
      "60000/60000 [==============================] - 75s 1ms/step - loss: 0.1092 - val_loss: 0.1085\n",
      "Epoch 18/50\n",
      "60000/60000 [==============================] - 75s 1ms/step - loss: 0.1088 - val_loss: 0.1077\n",
      "Epoch 19/50\n",
      "60000/60000 [==============================] - 77s 1ms/step - loss: 0.1083 - val_loss: 0.1076\n",
      "Epoch 20/50\n",
      "60000/60000 [==============================] - 79s 1ms/step - loss: 0.1078 - val_loss: 0.1061\n",
      "Epoch 21/50\n",
      "60000/60000 [==============================] - 79s 1ms/step - loss: 0.1076 - val_loss: 0.1072\n",
      "Epoch 22/50\n",
      "60000/60000 [==============================] - 74s 1ms/step - loss: 0.1069 - val_loss: 0.1051\n",
      "Epoch 23/50\n",
      "60000/60000 [==============================] - 74s 1ms/step - loss: 0.1065 - val_loss: 0.1041\n",
      "Epoch 24/50\n",
      "60000/60000 [==============================] - 76s 1ms/step - loss: 0.1063 - val_loss: 0.1063\n",
      "Epoch 25/50\n",
      "60000/60000 [==============================] - 76s 1ms/step - loss: 0.1061 - val_loss: 0.1044\n",
      "Epoch 26/50\n",
      "60000/60000 [==============================] - 85s 1ms/step - loss: 0.1058 - val_loss: 0.1052\n",
      "Epoch 27/50\n",
      "60000/60000 [==============================] - 100s 2ms/step - loss: 0.1050 - val_loss: 0.1029\n",
      "Epoch 28/50\n",
      "60000/60000 [==============================] - 81s 1ms/step - loss: 0.1049 - val_loss: 0.1032\n",
      "Epoch 29/50\n",
      "60000/60000 [==============================] - 84s 1ms/step - loss: 0.1048 - val_loss: 0.1050\n",
      "Epoch 30/50\n",
      "60000/60000 [==============================] - 80s 1ms/step - loss: 0.1047 - val_loss: 0.1046\n",
      "Epoch 31/50\n",
      "60000/60000 [==============================] - 78s 1ms/step - loss: 0.1045 - val_loss: 0.1020\n",
      "Epoch 32/50\n",
      "60000/60000 [==============================] - 77s 1ms/step - loss: 0.1041 - val_loss: 0.1040\n",
      "Epoch 33/50\n",
      "60000/60000 [==============================] - 77s 1ms/step - loss: 0.1040 - val_loss: 0.1032\n",
      "Epoch 34/50\n",
      "60000/60000 [==============================] - 75s 1ms/step - loss: 0.1037 - val_loss: 0.1014\n",
      "Epoch 35/50\n",
      "60000/60000 [==============================] - 69s 1ms/step - loss: 0.1037 - val_loss: 0.1032\n",
      "Epoch 36/50\n",
      "60000/60000 [==============================] - 75s 1ms/step - loss: 0.1035 - val_loss: 0.1045\n",
      "Epoch 37/50\n",
      "60000/60000 [==============================] - 83s 1ms/step - loss: 0.1030 - val_loss: 0.1020\n",
      "Epoch 38/50\n",
      "60000/60000 [==============================] - 90s 2ms/step - loss: 0.1026 - val_loss: 0.1017\n",
      "Epoch 39/50\n",
      "60000/60000 [==============================] - 85s 1ms/step - loss: 0.1022 - val_loss: 0.1021\n",
      "Epoch 40/50\n",
      "60000/60000 [==============================] - 76s 1ms/step - loss: 0.1020 - val_loss: 0.1001\n",
      "Epoch 41/50\n",
      "60000/60000 [==============================] - 79s 1ms/step - loss: 0.1019 - val_loss: 0.0992\n",
      "Epoch 42/50\n",
      "60000/60000 [==============================] - 85s 1ms/step - loss: 0.1017 - val_loss: 0.0998\n",
      "Epoch 43/50\n",
      "60000/60000 [==============================] - 72s 1ms/step - loss: 0.1016 - val_loss: 0.1011\n",
      "Epoch 44/50\n",
      "60000/60000 [==============================] - 68s 1ms/step - loss: 0.1012 - val_loss: 0.1000\n",
      "Epoch 45/50\n",
      "60000/60000 [==============================] - 67s 1ms/step - loss: 0.1010 - val_loss: 0.0984\n",
      "Epoch 46/50\n",
      "60000/60000 [==============================] - 67s 1ms/step - loss: 0.1010 - val_loss: 0.0996\n",
      "Epoch 47/50\n",
      "60000/60000 [==============================] - 67s 1ms/step - loss: 0.1009 - val_loss: 0.0998\n",
      "Epoch 48/50\n",
      "60000/60000 [==============================] - 68s 1ms/step - loss: 0.1007 - val_loss: 0.1008\n",
      "Epoch 49/50\n",
      "60000/60000 [==============================] - 68s 1ms/step - loss: 0.1007 - val_loss: 0.0993\n",
      "Epoch 50/50\n",
      "60000/60000 [==============================] - 68s 1ms/step - loss: 0.1007 - val_loss: 0.0984\n"
     ]
    },
    {
     "data": {
      "text/plain": [
       "<keras.callbacks.History at 0x13050cb90>"
      ]
     },
     "execution_count": 7,
     "metadata": {},
     "output_type": "execute_result"
    }
   ],
   "source": [
    "from keras.callbacks import TensorBoard\n",
    "\n",
    "autoencoder.fit(x_train, x_train,\n",
    "                epochs=50,\n",
    "                batch_size=128,\n",
    "                shuffle=True,\n",
    "                validation_data=(x_test, x_test),\n",
    "                callbacks=[TensorBoard(log_dir='/tmp/autoencoder')])"
   ]
  },
  {
   "cell_type": "code",
   "execution_count": 8,
   "metadata": {},
   "outputs": [
    {
     "data": {
      "text/plain": [
       "0"
      ]
     },
     "execution_count": 8,
     "metadata": {},
     "output_type": "execute_result"
    }
   ],
   "source": [
    "gc.collect()"
   ]
  },
  {
   "cell_type": "code",
   "execution_count": 10,
   "metadata": {
    "collapsed": true
   },
   "outputs": [],
   "source": [
    "import matplotlib.pyplot as plt"
   ]
  },
  {
   "cell_type": "code",
   "execution_count": 11,
   "metadata": {},
   "outputs": [
    {
     "data": {
      "image/png": "[encoded data removed]",
      "text/plain": [
       "<matplotlib.figure.Figure at 0x12f860e90>"
      ]
     },
     "metadata": {},
     "output_type": "display_data"
    }
   ],
   "source": [
    "decoded_imgs = autoencoder.predict(x_test)\n",
    "\n",
    "n = 10\n",
    "plt.figure(figsize=(20, 4))\n",
    "for i in range(n):\n",
    "    # display original\n",
    "    ax = plt.subplot(2, n, i+1)\n",
    "    plt.imshow(x_test[i].reshape(28, 28))\n",
    "    plt.gray()\n",
    "    ax.get_xaxis().set_visible(False)\n",
    "    ax.get_yaxis().set_visible(False)\n",
    "\n",
    "    # display reconstruction\n",
    "    ax = plt.subplot(2, n, i+n+1)\n",
    "    plt.imshow(decoded_imgs[i].reshape(28, 28))\n",
    "    plt.gray()\n",
    "    ax.get_xaxis().set_visible(False)\n",
    "    ax.get_yaxis().set_visible(False)"
   ]
  },
  {
   "cell_type": "markdown",
   "metadata": {},
   "source": [
    "##### BETTER"
   ]
  }
 ],
 "metadata": {
  "kernelspec": {
   "display_name": "Python 2",
   "language": "python",
   "name": "python2"
  },
  "language_info": {
   "codemirror_mode": {
    "name": "ipython",
    "version": 2
   },
   "file_extension": ".py",
   "mimetype": "text/x-python",
   "name": "python",
   "nbconvert_exporter": "python",
   "pygments_lexer": "ipython2",
   "version": "2.7.13"
  }
 },
 "nbformat": 4,
 "nbformat_minor": 2
}
