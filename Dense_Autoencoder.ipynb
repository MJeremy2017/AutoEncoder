{
 "cells": [
  {
   "cell_type": "code",
   "execution_count": 2,
   "metadata": {},
   "outputs": [],
   "source": [
    "%matplotlib inline"
   ]
  },
  {
   "cell_type": "code",
   "execution_count": 3,
   "metadata": {
    "scrolled": false
   },
   "outputs": [
    {
     "name": "stderr",
     "output_type": "stream",
     "text": [
      "/Users/jeremy/anaconda/lib/python2.7/site-packages/h5py/__init__.py:34: FutureWarning: Conversion of the second argument of issubdtype from `float` to `np.floating` is deprecated. In future, it will be treated as `np.float64 == np.dtype(float).type`.\n",
      "  from ._conv import register_converters as _register_converters\n",
      "Using TensorFlow backend.\n"
     ]
    }
   ],
   "source": [
    "from keras.layers import Input, Dense\n",
    "from keras.models import Model"
   ]
  },
  {
   "cell_type": "markdown",
   "metadata": {},
   "source": [
    "#### Basic Autoencoder"
   ]
  },
  {
   "cell_type": "code",
   "execution_count": 6,
   "metadata": {
    "collapsed": true
   },
   "outputs": [],
   "source": [
    "encoding_dim = 32  # 32 floats -> compression of factor 24.5(784/32), assuming the input is 784 floats\n",
    "\n",
    "input_img = Input(shape=(784,))\n",
    "encoded = Dense(encoding_dim, activation='relu')(input_img)  # encoding\n",
    "decoded = Dense(784, activation='sigmoid')(encoded)  # decoding\n",
    "\n",
    "# this model maps an input to its reconstruction\n",
    "autoencoder = Model(input_img, decoded)  # (input, output)\n",
    "autoencoder.compile(optimizer='adadelta', loss='binary_crossentropy')"
   ]
  },
  {
   "cell_type": "code",
   "execution_count": 7,
   "metadata": {
    "collapsed": true
   },
   "outputs": [],
   "source": [
    "from keras.datasets import mnist\n",
    "import numpy as np"
   ]
  },
  {
   "cell_type": "code",
   "execution_count": 33,
   "metadata": {},
   "outputs": [],
   "source": [
    "(x_train, _), (x_test, _) = mnist.load_data()  # np.array"
   ]
  },
  {
   "cell_type": "code",
   "execution_count": 34,
   "metadata": {},
   "outputs": [
    {
     "name": "stdout",
     "output_type": "stream",
     "text": [
      "(60000, 784)\n",
      "(10000, 784)\n"
     ]
    }
   ],
   "source": [
    "x_train = x_train.astype('float32') / 255.\n",
    "x_test = x_test.astype('float32') / 255.\n",
    "x_train = x_train.reshape((len(x_train), np.prod(x_train.shape[1:])))\n",
    "x_test = x_test.reshape((len(x_test), np.prod(x_test.shape[1:])))\n",
    "print x_train.shape\n",
    "print x_test.shape"
   ]
  },
  {
   "cell_type": "code",
   "execution_count": 13,
   "metadata": {
    "scrolled": true
   },
   "outputs": [
    {
     "name": "stdout",
     "output_type": "stream",
     "text": [
      "Train on 60000 samples, validate on 10000 samples\n",
      "Epoch 1/50\n",
      "60000/60000 [==============================] - 4s 60us/step - loss: 0.3769 - val_loss: 0.2722\n",
      "Epoch 2/50\n",
      "60000/60000 [==============================] - 3s 48us/step - loss: 0.2644 - val_loss: 0.2532\n",
      "Epoch 3/50\n",
      "60000/60000 [==============================] - 3s 50us/step - loss: 0.2435 - val_loss: 0.2312\n",
      "Epoch 4/50\n",
      "60000/60000 [==============================] - 3s 49us/step - loss: 0.2239 - val_loss: 0.2139\n",
      "Epoch 5/50\n",
      "60000/60000 [==============================] - 3s 51us/step - loss: 0.2089 - val_loss: 0.2011\n",
      "Epoch 6/50\n",
      "60000/60000 [==============================] - 3s 52us/step - loss: 0.1977 - val_loss: 0.1915\n",
      "Epoch 7/50\n",
      "60000/60000 [==============================] - 3s 50us/step - loss: 0.1893 - val_loss: 0.1842\n",
      "Epoch 8/50\n",
      "60000/60000 [==============================] - 3s 49us/step - loss: 0.1825 - val_loss: 0.1779\n",
      "Epoch 9/50\n",
      "60000/60000 [==============================] - 3s 48us/step - loss: 0.1766 - val_loss: 0.1725\n",
      "Epoch 10/50\n",
      "60000/60000 [==============================] - 3s 48us/step - loss: 0.1715 - val_loss: 0.1676\n",
      "Epoch 11/50\n",
      "60000/60000 [==============================] - 3s 53us/step - loss: 0.1668 - val_loss: 0.1632\n",
      "Epoch 12/50\n",
      "60000/60000 [==============================] - 3s 49us/step - loss: 0.1626 - val_loss: 0.1591\n",
      "Epoch 13/50\n",
      "60000/60000 [==============================] - 3s 49us/step - loss: 0.1587 - val_loss: 0.1555\n",
      "Epoch 14/50\n",
      "60000/60000 [==============================] - 3s 49us/step - loss: 0.1551 - val_loss: 0.1520\n",
      "Epoch 15/50\n",
      "60000/60000 [==============================] - 3s 48us/step - loss: 0.1518 - val_loss: 0.1489\n",
      "Epoch 16/50\n",
      "60000/60000 [==============================] - 3s 54us/step - loss: 0.1488 - val_loss: 0.1459\n",
      "Epoch 17/50\n",
      "60000/60000 [==============================] - 3s 52us/step - loss: 0.1460 - val_loss: 0.1432\n",
      "Epoch 18/50\n",
      "60000/60000 [==============================] - 3s 57us/step - loss: 0.1434 - val_loss: 0.1407\n",
      "Epoch 19/50\n",
      "60000/60000 [==============================] - 3s 50us/step - loss: 0.1410 - val_loss: 0.1383\n",
      "Epoch 20/50\n",
      "60000/60000 [==============================] - 3s 51us/step - loss: 0.1387 - val_loss: 0.1360\n",
      "Epoch 21/50\n",
      "60000/60000 [==============================] - 4s 59us/step - loss: 0.1365 - val_loss: 0.1340\n",
      "Epoch 22/50\n",
      "60000/60000 [==============================] - 3s 48us/step - loss: 0.1344 - val_loss: 0.1319\n",
      "Epoch 23/50\n",
      "60000/60000 [==============================] - 3s 45us/step - loss: 0.1325 - val_loss: 0.1300\n",
      "Epoch 24/50\n",
      "60000/60000 [==============================] - 3s 46us/step - loss: 0.1306 - val_loss: 0.1283\n",
      "Epoch 25/50\n",
      "60000/60000 [==============================] - 3s 45us/step - loss: 0.1288 - val_loss: 0.1265\n",
      "Epoch 26/50\n",
      "60000/60000 [==============================] - 3s 45us/step - loss: 0.1271 - val_loss: 0.1247\n",
      "Epoch 27/50\n",
      "60000/60000 [==============================] - 3s 48us/step - loss: 0.1255 - val_loss: 0.1231\n",
      "Epoch 28/50\n",
      "60000/60000 [==============================] - 3s 50us/step - loss: 0.1239 - val_loss: 0.1215\n",
      "Epoch 29/50\n",
      "60000/60000 [==============================] - 3s 48us/step - loss: 0.1224 - val_loss: 0.1200\n",
      "Epoch 30/50\n",
      "60000/60000 [==============================] - 3s 49us/step - loss: 0.1209 - val_loss: 0.1187\n",
      "Epoch 31/50\n",
      "60000/60000 [==============================] - 3s 50us/step - loss: 0.1196 - val_loss: 0.1173\n",
      "Epoch 32/50\n",
      "60000/60000 [==============================] - 3s 50us/step - loss: 0.1183 - val_loss: 0.1161\n",
      "Epoch 33/50\n",
      "60000/60000 [==============================] - 3s 49us/step - loss: 0.1171 - val_loss: 0.1149\n",
      "Epoch 34/50\n",
      "60000/60000 [==============================] - 4s 59us/step - loss: 0.1159 - val_loss: 0.1138\n",
      "Epoch 35/50\n",
      "60000/60000 [==============================] - 4s 60us/step - loss: 0.1149 - val_loss: 0.1127\n",
      "Epoch 36/50\n",
      "60000/60000 [==============================] - 3s 52us/step - loss: 0.1138 - val_loss: 0.1117\n",
      "Epoch 37/50\n",
      "60000/60000 [==============================] - 3s 57us/step - loss: 0.1129 - val_loss: 0.1109\n",
      "Epoch 38/50\n",
      "60000/60000 [==============================] - 3s 56us/step - loss: 0.1120 - val_loss: 0.1100\n",
      "Epoch 39/50\n",
      "60000/60000 [==============================] - 4s 59us/step - loss: 0.1112 - val_loss: 0.1092\n",
      "Epoch 40/50\n",
      "60000/60000 [==============================] - 3s 56us/step - loss: 0.1104 - val_loss: 0.1085\n",
      "Epoch 41/50\n",
      "60000/60000 [==============================] - 3s 52us/step - loss: 0.1097 - val_loss: 0.1078\n",
      "Epoch 42/50\n",
      "60000/60000 [==============================] - 3s 53us/step - loss: 0.1091 - val_loss: 0.1071\n",
      "Epoch 43/50\n",
      "60000/60000 [==============================] - 3s 52us/step - loss: 0.1084 - val_loss: 0.1065\n",
      "Epoch 44/50\n",
      "60000/60000 [==============================] - 3s 53us/step - loss: 0.1079 - val_loss: 0.1060\n",
      "Epoch 45/50\n",
      "60000/60000 [==============================] - 3s 51us/step - loss: 0.1073 - val_loss: 0.1054\n",
      "Epoch 46/50\n",
      "60000/60000 [==============================] - 3s 53us/step - loss: 0.1068 - val_loss: 0.1050\n",
      "Epoch 47/50\n",
      "60000/60000 [==============================] - 3s 52us/step - loss: 0.1063 - val_loss: 0.1045\n",
      "Epoch 48/50\n",
      "60000/60000 [==============================] - 3s 54us/step - loss: 0.1059 - val_loss: 0.1040\n",
      "Epoch 49/50\n",
      "60000/60000 [==============================] - 3s 54us/step - loss: 0.1054 - val_loss: 0.1037\n",
      "Epoch 50/50\n",
      "60000/60000 [==============================] - 3s 54us/step - loss: 0.1050 - val_loss: 0.1033\n"
     ]
    },
    {
     "data": {
      "text/plain": [
       "<keras.callbacks.History at 0x124a3ca50>"
      ]
     },
     "execution_count": 13,
     "metadata": {},
     "output_type": "execute_result"
    }
   ],
   "source": [
    "autoencoder.fit(x_train, x_train,\n",
    "                epochs=50,\n",
    "                batch_size=256,\n",
    "                shuffle=True,\n",
    "                validation_data=(x_test, x_test))"
   ]
  },
  {
   "cell_type": "code",
   "execution_count": 14,
   "metadata": {
    "collapsed": true
   },
   "outputs": [],
   "source": [
    "import matplotlib.pyplot as plt\n",
    "import gc"
   ]
  },
  {
   "cell_type": "code",
   "execution_count": 15,
   "metadata": {},
   "outputs": [
    {
     "data": {
      "text/plain": [
       "228"
      ]
     },
     "execution_count": 15,
     "metadata": {},
     "output_type": "execute_result"
    }
   ],
   "source": [
    "gc.collect()"
   ]
  },
  {
   "cell_type": "code",
   "execution_count": 16,
   "metadata": {
    "collapsed": true
   },
   "outputs": [],
   "source": [
    "decoded_imgs = autoencoder.predict(x_test)"
   ]
  },
  {
   "cell_type": "code",
   "execution_count": 17,
   "metadata": {},
   "outputs": [
    {
     "data": {
      "text/plain": [
       "(10000, 784)"
      ]
     },
     "execution_count": 17,
     "metadata": {},
     "output_type": "execute_result"
    }
   ],
   "source": [
    "decoded_imgs.shape"
   ]
  },
  {
   "cell_type": "code",
   "execution_count": 18,
   "metadata": {},
   "outputs": [
    {
     "data": {
      "image/png": "[encoded data removed]",
      "text/plain": [
       "<matplotlib.figure.Figure at 0x1361ffd10>"
      ]
     },
     "metadata": {},
     "output_type": "display_data"
    }
   ],
   "source": [
    "n = 10  # how many digits we will display\n",
    "plt.figure(figsize=(20, 4))\n",
    "for i in range(n):\n",
    "    # display original\n",
    "    ax = plt.subplot(2, n, i + 1)\n",
    "    plt.imshow(x_test[i].reshape(28, 28))\n",
    "    plt.gray()\n",
    "    ax.get_xaxis().set_visible(False)\n",
    "    ax.get_yaxis().set_visible(False)\n",
    "\n",
    "    # display reconstruction\n",
    "    ax = plt.subplot(2, n, i + 1 + n)\n",
    "    plt.imshow(decoded_imgs[i].reshape(28, 28))\n",
    "    plt.gray()\n",
    "    ax.get_xaxis().set_visible(False)\n",
    "    ax.get_yaxis().set_visible(False)"
   ]
  },
  {
   "cell_type": "markdown",
   "metadata": {},
   "source": [
    "#### Regularized Autoencoder"
   ]
  },
  {
   "cell_type": "code",
   "execution_count": 24,
   "metadata": {
    "collapsed": true
   },
   "outputs": [],
   "source": [
    "from keras import regularizers"
   ]
  },
  {
   "cell_type": "code",
   "execution_count": 25,
   "metadata": {
    "collapsed": true
   },
   "outputs": [],
   "source": [
    "encoding_dim = 32\n",
    "\n",
    "input_img = Input(shape=(784,))\n",
    "# add a Dense layer with a L1 activity regularizer\n",
    "encoded = Dense(encoding_dim, activation='relu',\n",
    "                activity_regularizer=regularizers.l1(10e-5))(input_img)\n",
    "decoded = Dense(784, activation='sigmoid')(encoded)\n",
    "\n",
    "autoencoder = Model(input_img, decoded)\n",
    "autoencoder.compile(optimizer='adadelta', loss='binary_crossentropy')"
   ]
  },
  {
   "cell_type": "code",
   "execution_count": 26,
   "metadata": {
    "scrolled": true
   },
   "outputs": [
    {
     "name": "stdout",
     "output_type": "stream",
     "text": [
      "Train on 60000 samples, validate on 10000 samples\n",
      "Epoch 1/100\n",
      "60000/60000 [==============================] - 3s 56us/step - loss: 0.6844 - val_loss: 0.6606\n",
      "Epoch 2/100\n",
      "60000/60000 [==============================] - 4s 63us/step - loss: 0.6439 - val_loss: 0.6272\n",
      "Epoch 3/100\n",
      "60000/60000 [==============================] - 4s 61us/step - loss: 0.6111 - val_loss: 0.5952\n",
      "Epoch 4/100\n",
      "60000/60000 [==============================] - 3s 50us/step - loss: 0.5801 - val_loss: 0.5655\n",
      "Epoch 5/100\n",
      "60000/60000 [==============================] - 4s 65us/step - loss: 0.5518 - val_loss: 0.5386\n",
      "Epoch 6/100\n",
      "60000/60000 [==============================] - 3s 50us/step - loss: 0.5263 - val_loss: 0.5145\n",
      "Epoch 7/100\n",
      "60000/60000 [==============================] - 3s 56us/step - loss: 0.5036 - val_loss: 0.4932\n",
      "Epoch 8/100\n",
      "60000/60000 [==============================] - 3s 55us/step - loss: 0.4835 - val_loss: 0.4743\n",
      "Epoch 9/100\n",
      "60000/60000 [==============================] - 3s 51us/step - loss: 0.4658 - val_loss: 0.4577\n",
      "Epoch 10/100\n",
      "60000/60000 [==============================] - 3s 51us/step - loss: 0.4501 - val_loss: 0.4429\n",
      "Epoch 11/100\n",
      "60000/60000 [==============================] - 4s 61us/step - loss: 0.4362 - val_loss: 0.4299\n",
      "Epoch 12/100\n",
      "60000/60000 [==============================] - 3s 54us/step - loss: 0.4238 - val_loss: 0.4183\n",
      "Epoch 13/100\n",
      "60000/60000 [==============================] - 4s 59us/step - loss: 0.4128 - val_loss: 0.4079\n",
      "Epoch 14/100\n",
      "60000/60000 [==============================] - 3s 57us/step - loss: 0.4030 - val_loss: 0.3986\n",
      "Epoch 15/100\n",
      "60000/60000 [==============================] - 3s 58us/step - loss: 0.3942 - val_loss: 0.3902\n",
      "Epoch 16/100\n",
      "60000/60000 [==============================] - 3s 56us/step - loss: 0.3862 - val_loss: 0.3826\n",
      "Epoch 17/100\n",
      "60000/60000 [==============================] - 4s 62us/step - loss: 0.3790 - val_loss: 0.3758\n",
      "Epoch 18/100\n",
      "60000/60000 [==============================] - 4s 58us/step - loss: 0.3725 - val_loss: 0.3695\n",
      "Epoch 19/100\n",
      "60000/60000 [==============================] - 4s 61us/step - loss: 0.3665 - val_loss: 0.3639\n",
      "Epoch 20/100\n",
      "60000/60000 [==============================] - 4s 60us/step - loss: 0.3611 - val_loss: 0.3587\n",
      "Epoch 21/100\n",
      "60000/60000 [==============================] - 3s 57us/step - loss: 0.3561 - val_loss: 0.3539\n",
      "Epoch 22/100\n",
      "60000/60000 [==============================] - 3s 52us/step - loss: 0.3516 - val_loss: 0.3496\n",
      "Epoch 23/100\n",
      "60000/60000 [==============================] - 3s 46us/step - loss: 0.3474 - val_loss: 0.3455\n",
      "Epoch 24/100\n",
      "60000/60000 [==============================] - 3s 46us/step - loss: 0.3435 - val_loss: 0.3418\n",
      "Epoch 25/100\n",
      "60000/60000 [==============================] - 3s 46us/step - loss: 0.3399 - val_loss: 0.3384\n",
      "Epoch 26/100\n",
      "60000/60000 [==============================] - 3s 47us/step - loss: 0.3366 - val_loss: 0.3352\n",
      "Epoch 27/100\n",
      "60000/60000 [==============================] - 3s 48us/step - loss: 0.3335 - val_loss: 0.3322\n",
      "Epoch 28/100\n",
      "60000/60000 [==============================] - 3s 50us/step - loss: 0.3307 - val_loss: 0.3294\n",
      "Epoch 29/100\n",
      "60000/60000 [==============================] - 3s 51us/step - loss: 0.3280 - val_loss: 0.3269\n",
      "Epoch 30/100\n",
      "60000/60000 [==============================] - 3s 49us/step - loss: 0.3255 - val_loss: 0.3245\n",
      "Epoch 31/100\n",
      "60000/60000 [==============================] - 4s 58us/step - loss: 0.3232 - val_loss: 0.3222\n",
      "Epoch 32/100\n",
      "60000/60000 [==============================] - 3s 57us/step - loss: 0.3210 - val_loss: 0.3201\n",
      "Epoch 33/100\n",
      "60000/60000 [==============================] - 3s 52us/step - loss: 0.3189 - val_loss: 0.3181\n",
      "Epoch 34/100\n",
      "60000/60000 [==============================] - 3s 58us/step - loss: 0.3170 - val_loss: 0.3162\n",
      "Epoch 35/100\n",
      "60000/60000 [==============================] - 3s 54us/step - loss: 0.3152 - val_loss: 0.3145\n",
      "Epoch 36/100\n",
      "60000/60000 [==============================] - 3s 52us/step - loss: 0.3135 - val_loss: 0.3128\n",
      "Epoch 37/100\n",
      "60000/60000 [==============================] - 3s 55us/step - loss: 0.3119 - val_loss: 0.3112\n",
      "Epoch 38/100\n",
      "60000/60000 [==============================] - 3s 50us/step - loss: 0.3103 - val_loss: 0.3097\n",
      "Epoch 39/100\n",
      "60000/60000 [==============================] - 3s 51us/step - loss: 0.3089 - val_loss: 0.3083\n",
      "Epoch 40/100\n",
      "60000/60000 [==============================] - 3s 57us/step - loss: 0.3075 - val_loss: 0.3070\n",
      "Epoch 41/100\n",
      "60000/60000 [==============================] - 3s 53us/step - loss: 0.3062 - val_loss: 0.3057\n",
      "Epoch 42/100\n",
      "60000/60000 [==============================] - 3s 51us/step - loss: 0.3050 - val_loss: 0.3045\n",
      "Epoch 43/100\n",
      "60000/60000 [==============================] - 3s 52us/step - loss: 0.3038 - val_loss: 0.3034\n",
      "Epoch 44/100\n",
      "60000/60000 [==============================] - 3s 52us/step - loss: 0.3027 - val_loss: 0.3023\n",
      "Epoch 45/100\n",
      "60000/60000 [==============================] - 3s 52us/step - loss: 0.3016 - val_loss: 0.3012\n",
      "Epoch 46/100\n",
      "60000/60000 [==============================] - 3s 52us/step - loss: 0.3006 - val_loss: 0.3002\n",
      "Epoch 47/100\n",
      "60000/60000 [==============================] - 4s 58us/step - loss: 0.2997 - val_loss: 0.2993\n",
      "Epoch 48/100\n",
      "60000/60000 [==============================] - 3s 55us/step - loss: 0.2987 - val_loss: 0.2984\n",
      "Epoch 49/100\n",
      "60000/60000 [==============================] - 3s 56us/step - loss: 0.2979 - val_loss: 0.2975\n",
      "Epoch 50/100\n",
      "60000/60000 [==============================] - 3s 49us/step - loss: 0.2970 - val_loss: 0.2967\n",
      "Epoch 51/100\n",
      "60000/60000 [==============================] - 3s 46us/step - loss: 0.2962 - val_loss: 0.2959\n",
      "Epoch 52/100\n",
      "60000/60000 [==============================] - 3s 45us/step - loss: 0.2954 - val_loss: 0.2951\n",
      "Epoch 53/100\n",
      "60000/60000 [==============================] - 3s 45us/step - loss: 0.2947 - val_loss: 0.2944\n",
      "Epoch 54/100\n",
      "60000/60000 [==============================] - 3s 50us/step - loss: 0.2940 - val_loss: 0.2937\n",
      "Epoch 55/100\n",
      "60000/60000 [==============================] - 3s 45us/step - loss: 0.2933 - val_loss: 0.2930\n",
      "Epoch 56/100\n",
      "60000/60000 [==============================] - 3s 44us/step - loss: 0.2926 - val_loss: 0.2924\n",
      "Epoch 57/100\n",
      "60000/60000 [==============================] - 3s 45us/step - loss: 0.2920 - val_loss: 0.2917\n",
      "Epoch 58/100\n",
      "60000/60000 [==============================] - 3s 45us/step - loss: 0.2914 - val_loss: 0.2911\n",
      "Epoch 59/100\n",
      "60000/60000 [==============================] - 3s 45us/step - loss: 0.2908 - val_loss: 0.2906\n",
      "Epoch 60/100\n",
      "60000/60000 [==============================] - 3s 45us/step - loss: 0.2902 - val_loss: 0.2900\n",
      "Epoch 61/100\n",
      "60000/60000 [==============================] - 3s 45us/step - loss: 0.2897 - val_loss: 0.2895\n",
      "Epoch 62/100\n",
      "60000/60000 [==============================] - 3s 45us/step - loss: 0.2892 - val_loss: 0.2889\n",
      "Epoch 63/100\n",
      "60000/60000 [==============================] - 3s 47us/step - loss: 0.2886 - val_loss: 0.2884\n",
      "Epoch 64/100\n",
      "60000/60000 [==============================] - 3s 46us/step - loss: 0.2882 - val_loss: 0.2880\n",
      "Epoch 65/100\n",
      "60000/60000 [==============================] - 3s 45us/step - loss: 0.2877 - val_loss: 0.2875\n",
      "Epoch 66/100\n",
      "60000/60000 [==============================] - 3s 45us/step - loss: 0.2872 - val_loss: 0.2870\n",
      "Epoch 67/100\n",
      "60000/60000 [==============================] - 3s 45us/step - loss: 0.2868 - val_loss: 0.2866\n",
      "Epoch 68/100\n",
      "60000/60000 [==============================] - 3s 46us/step - loss: 0.2863 - val_loss: 0.2862\n",
      "Epoch 69/100\n",
      "60000/60000 [==============================] - 3s 45us/step - loss: 0.2859 - val_loss: 0.2858\n",
      "Epoch 70/100\n",
      "60000/60000 [==============================] - 3s 45us/step - loss: 0.2855 - val_loss: 0.2854\n",
      "Epoch 71/100\n",
      "60000/60000 [==============================] - 3s 47us/step - loss: 0.2851 - val_loss: 0.2850\n",
      "Epoch 72/100\n",
      "60000/60000 [==============================] - 3s 45us/step - loss: 0.2848 - val_loss: 0.2846\n",
      "Epoch 73/100\n",
      "60000/60000 [==============================] - 3s 46us/step - loss: 0.2844 - val_loss: 0.2842\n",
      "Epoch 74/100\n",
      "60000/60000 [==============================] - 3s 51us/step - loss: 0.2840 - val_loss: 0.2839\n",
      "Epoch 75/100\n",
      "60000/60000 [==============================] - 3s 50us/step - loss: 0.2837 - val_loss: 0.2835\n",
      "Epoch 76/100\n",
      "60000/60000 [==============================] - 3s 46us/step - loss: 0.2834 - val_loss: 0.2832\n",
      "Epoch 77/100\n"
     ]
    },
    {
     "name": "stdout",
     "output_type": "stream",
     "text": [
      "60000/60000 [==============================] - 3s 45us/step - loss: 0.2830 - val_loss: 0.2829\n",
      "Epoch 78/100\n",
      "60000/60000 [==============================] - 3s 44us/step - loss: 0.2827 - val_loss: 0.2826\n",
      "Epoch 79/100\n",
      "60000/60000 [==============================] - 3s 45us/step - loss: 0.2824 - val_loss: 0.2823\n",
      "Epoch 80/100\n",
      "60000/60000 [==============================] - 3s 45us/step - loss: 0.2821 - val_loss: 0.2820\n",
      "Epoch 81/100\n",
      "60000/60000 [==============================] - 3s 45us/step - loss: 0.2818 - val_loss: 0.2817\n",
      "Epoch 82/100\n",
      "60000/60000 [==============================] - 3s 45us/step - loss: 0.2815 - val_loss: 0.2814\n",
      "Epoch 83/100\n",
      "60000/60000 [==============================] - 3s 45us/step - loss: 0.2813 - val_loss: 0.2811\n",
      "Epoch 84/100\n",
      "60000/60000 [==============================] - 3s 45us/step - loss: 0.2810 - val_loss: 0.2809\n",
      "Epoch 85/100\n",
      "60000/60000 [==============================] - 3s 45us/step - loss: 0.2807 - val_loss: 0.2806\n",
      "Epoch 86/100\n",
      "60000/60000 [==============================] - 3s 45us/step - loss: 0.2805 - val_loss: 0.2803\n",
      "Epoch 87/100\n",
      "60000/60000 [==============================] - 3s 44us/step - loss: 0.2802 - val_loss: 0.2801\n",
      "Epoch 88/100\n",
      "60000/60000 [==============================] - 3s 45us/step - loss: 0.2800 - val_loss: 0.2799\n",
      "Epoch 89/100\n",
      "60000/60000 [==============================] - 3s 45us/step - loss: 0.2798 - val_loss: 0.2796\n",
      "Epoch 90/100\n",
      "60000/60000 [==============================] - 3s 45us/step - loss: 0.2795 - val_loss: 0.2794\n",
      "Epoch 91/100\n",
      "60000/60000 [==============================] - 3s 47us/step - loss: 0.2793 - val_loss: 0.2792\n",
      "Epoch 92/100\n",
      "60000/60000 [==============================] - 3s 48us/step - loss: 0.2791 - val_loss: 0.2789\n",
      "Epoch 93/100\n",
      "60000/60000 [==============================] - 3s 47us/step - loss: 0.2789 - val_loss: 0.2787\n",
      "Epoch 94/100\n",
      "60000/60000 [==============================] - 3s 47us/step - loss: 0.2787 - val_loss: 0.2785\n",
      "Epoch 95/100\n",
      "60000/60000 [==============================] - 3s 47us/step - loss: 0.2785 - val_loss: 0.2783\n",
      "Epoch 96/100\n",
      "60000/60000 [==============================] - 3s 46us/step - loss: 0.2783 - val_loss: 0.2781\n",
      "Epoch 97/100\n",
      "60000/60000 [==============================] - 3s 46us/step - loss: 0.2781 - val_loss: 0.2779\n",
      "Epoch 98/100\n",
      "60000/60000 [==============================] - 3s 45us/step - loss: 0.2779 - val_loss: 0.2777\n",
      "Epoch 99/100\n",
      "60000/60000 [==============================] - 3s 46us/step - loss: 0.2777 - val_loss: 0.2776\n",
      "Epoch 100/100\n",
      "60000/60000 [==============================] - 3s 47us/step - loss: 0.2775 - val_loss: 0.2774\n"
     ]
    },
    {
     "data": {
      "text/plain": [
       "<keras.callbacks.History at 0x1383c2710>"
      ]
     },
     "execution_count": 26,
     "metadata": {},
     "output_type": "execute_result"
    }
   ],
   "source": [
    "autoencoder.fit(x_train, x_train,\n",
    "                epochs=100,\n",
    "                batch_size=256,\n",
    "                shuffle=True,\n",
    "                validation_data=(x_test, x_test))"
   ]
  },
  {
   "cell_type": "code",
   "execution_count": 28,
   "metadata": {
    "scrolled": true
   },
   "outputs": [
    {
     "data": {
      "text/plain": [
       "180"
      ]
     },
     "execution_count": 28,
     "metadata": {},
     "output_type": "execute_result"
    }
   ],
   "source": [
    "gc.collect()"
   ]
  },
  {
   "cell_type": "code",
   "execution_count": 35,
   "metadata": {
    "collapsed": true
   },
   "outputs": [],
   "source": [
    "decoded_imgs = autoencoder.predict(x_test)"
   ]
  },
  {
   "cell_type": "code",
   "execution_count": 36,
   "metadata": {},
   "outputs": [
    {
     "data": {
      "image/png": "[encoded data removed]",
      "text/plain": [
       "<matplotlib.figure.Figure at 0x13b00fc10>"
      ]
     },
     "metadata": {},
     "output_type": "display_data"
    }
   ],
   "source": [
    "n = 10  # how many digits we will display\n",
    "plt.figure(figsize=(20, 4))\n",
    "for i in range(n):\n",
    "    # display original\n",
    "    ax = plt.subplot(2, n, i + 1)\n",
    "    plt.imshow(x_test[i].reshape(28, 28))\n",
    "    plt.gray()\n",
    "    ax.get_xaxis().set_visible(False)\n",
    "    ax.get_yaxis().set_visible(False)\n",
    "\n",
    "    # display reconstruction\n",
    "    ax = plt.subplot(2, n, i + 1 + n)\n",
    "    plt.imshow(decoded_imgs[i].reshape(28, 28))\n",
    "    plt.gray()\n",
    "    ax.get_xaxis().set_visible(False)\n",
    "    ax.get_yaxis().set_visible(False)"
   ]
  },
  {
   "cell_type": "markdown",
   "metadata": {},
   "source": [
    "#### Deep Autoencoder"
   ]
  },
  {
   "cell_type": "code",
   "execution_count": 38,
   "metadata": {
    "collapsed": true
   },
   "outputs": [],
   "source": [
    "nput_img = Input(shape=(784,))\n",
    "encoded = Dense(128, activation='relu')(input_img)\n",
    "encoded = Dense(64, activation='relu')(encoded)\n",
    "encoded = Dense(32, activation='relu')(encoded)\n",
    "\n",
    "decoded = Dense(64, activation='relu')(encoded)\n",
    "decoded = Dense(128, activation='relu')(decoded)\n",
    "decoded = Dense(784, activation='sigmoid')(decoded)"
   ]
  },
  {
   "cell_type": "code",
   "execution_count": 40,
   "metadata": {
    "scrolled": true
   },
   "outputs": [
    {
     "name": "stdout",
     "output_type": "stream",
     "text": [
      "Train on 60000 samples, validate on 10000 samples\n",
      "Epoch 1/50\n",
      "60000/60000 [==============================] - 6s 94us/step - loss: 0.2537 - val_loss: 0.2422\n",
      "Epoch 2/50\n",
      "60000/60000 [==============================] - 5s 90us/step - loss: 0.2320 - val_loss: 0.2237\n",
      "Epoch 3/50\n",
      "60000/60000 [==============================] - 5s 83us/step - loss: 0.2162 - val_loss: 0.2091\n",
      "Epoch 4/50\n",
      "60000/60000 [==============================] - 5s 84us/step - loss: 0.2058 - val_loss: 0.1982\n",
      "Epoch 5/50\n",
      "60000/60000 [==============================] - 5s 84us/step - loss: 0.1932 - val_loss: 0.1867\n",
      "Epoch 6/50\n",
      "60000/60000 [==============================] - 5s 83us/step - loss: 0.1831 - val_loss: 0.1801\n",
      "Epoch 7/50\n",
      "60000/60000 [==============================] - 5s 83us/step - loss: 0.1756 - val_loss: 0.1696\n",
      "Epoch 8/50\n",
      "60000/60000 [==============================] - 5s 83us/step - loss: 0.1693 - val_loss: 0.1642\n",
      "Epoch 9/50\n",
      "60000/60000 [==============================] - 5s 84us/step - loss: 0.1642 - val_loss: 0.1596\n",
      "Epoch 10/50\n",
      "60000/60000 [==============================] - 5s 84us/step - loss: 0.1599 - val_loss: 0.1560\n",
      "Epoch 11/50\n",
      "60000/60000 [==============================] - 5s 84us/step - loss: 0.1558 - val_loss: 0.1521\n",
      "Epoch 12/50\n",
      "60000/60000 [==============================] - 5s 84us/step - loss: 0.1526 - val_loss: 0.1490\n",
      "Epoch 13/50\n",
      "60000/60000 [==============================] - 5s 85us/step - loss: 0.1496 - val_loss: 0.1469\n",
      "Epoch 14/50\n",
      "60000/60000 [==============================] - 5s 89us/step - loss: 0.1467 - val_loss: 0.1464\n",
      "Epoch 15/50\n",
      "60000/60000 [==============================] - 6s 97us/step - loss: 0.1440 - val_loss: 0.1428\n",
      "Epoch 16/50\n",
      "60000/60000 [==============================] - 6s 94us/step - loss: 0.1416 - val_loss: 0.1383\n",
      "Epoch 17/50\n",
      "60000/60000 [==============================] - 6s 102us/step - loss: 0.1390 - val_loss: 0.1371\n",
      "Epoch 18/50\n",
      "60000/60000 [==============================] - 6s 97us/step - loss: 0.1368 - val_loss: 0.1362\n",
      "Epoch 19/50\n",
      "60000/60000 [==============================] - 6s 95us/step - loss: 0.1350 - val_loss: 0.1318\n",
      "Epoch 20/50\n",
      "60000/60000 [==============================] - 6s 104us/step - loss: 0.1334 - val_loss: 0.1309\n",
      "Epoch 21/50\n",
      "60000/60000 [==============================] - 5s 83us/step - loss: 0.1319 - val_loss: 0.1289\n",
      "Epoch 22/50\n",
      "60000/60000 [==============================] - 5s 82us/step - loss: 0.1307 - val_loss: 0.1282\n",
      "Epoch 23/50\n",
      "60000/60000 [==============================] - 5s 83us/step - loss: 0.1296 - val_loss: 0.1277\n",
      "Epoch 24/50\n",
      "60000/60000 [==============================] - 6s 93us/step - loss: 0.1285 - val_loss: 0.1268\n",
      "Epoch 25/50\n",
      "60000/60000 [==============================] - 5s 90us/step - loss: 0.1272 - val_loss: 0.1256\n",
      "Epoch 26/50\n",
      "60000/60000 [==============================] - 5s 83us/step - loss: 0.1260 - val_loss: 0.1244\n",
      "Epoch 27/50\n",
      "60000/60000 [==============================] - 5s 87us/step - loss: 0.1248 - val_loss: 0.1231\n",
      "Epoch 28/50\n",
      "60000/60000 [==============================] - 5s 80us/step - loss: 0.1237 - val_loss: 0.1215\n",
      "Epoch 29/50\n",
      "60000/60000 [==============================] - 5s 80us/step - loss: 0.1226 - val_loss: 0.1203\n",
      "Epoch 30/50\n",
      "60000/60000 [==============================] - 6s 95us/step - loss: 0.1216 - val_loss: 0.1202\n",
      "Epoch 31/50\n",
      "60000/60000 [==============================] - 7s 113us/step - loss: 0.1207 - val_loss: 0.1186\n",
      "Epoch 32/50\n",
      "60000/60000 [==============================] - 5s 85us/step - loss: 0.1200 - val_loss: 0.1185\n",
      "Epoch 33/50\n",
      "60000/60000 [==============================] - 6s 95us/step - loss: 0.1193 - val_loss: 0.1173\n",
      "Epoch 34/50\n",
      "60000/60000 [==============================] - 5s 88us/step - loss: 0.1187 - val_loss: 0.1168\n",
      "Epoch 35/50\n",
      "60000/60000 [==============================] - 5s 83us/step - loss: 0.1182 - val_loss: 0.1161\n",
      "Epoch 36/50\n",
      "60000/60000 [==============================] - 5s 82us/step - loss: 0.1176 - val_loss: 0.1157\n",
      "Epoch 37/50\n",
      "60000/60000 [==============================] - 5s 82us/step - loss: 0.1171 - val_loss: 0.1150\n",
      "Epoch 38/50\n",
      "60000/60000 [==============================] - 5s 90us/step - loss: 0.1164 - val_loss: 0.1144\n",
      "Epoch 39/50\n",
      "60000/60000 [==============================] - 5s 79us/step - loss: 0.1160 - val_loss: 0.1147\n",
      "Epoch 40/50\n",
      "60000/60000 [==============================] - 5s 81us/step - loss: 0.1156 - val_loss: 0.1133\n",
      "Epoch 41/50\n",
      "60000/60000 [==============================] - 5s 82us/step - loss: 0.1151 - val_loss: 0.1129\n",
      "Epoch 42/50\n",
      "60000/60000 [==============================] - 6s 93us/step - loss: 0.1145 - val_loss: 0.1131\n",
      "Epoch 43/50\n",
      "60000/60000 [==============================] - 5s 85us/step - loss: 0.1140 - val_loss: 0.1124\n",
      "Epoch 44/50\n",
      "60000/60000 [==============================] - 5s 86us/step - loss: 0.1136 - val_loss: 0.1127\n",
      "Epoch 45/50\n",
      "60000/60000 [==============================] - 5s 89us/step - loss: 0.1132 - val_loss: 0.1117\n",
      "Epoch 46/50\n",
      "60000/60000 [==============================] - 5s 82us/step - loss: 0.1128 - val_loss: 0.1106\n",
      "Epoch 47/50\n",
      "60000/60000 [==============================] - 5s 84us/step - loss: 0.1124 - val_loss: 0.1111\n",
      "Epoch 48/50\n",
      "60000/60000 [==============================] - 5s 80us/step - loss: 0.1121 - val_loss: 0.1108\n",
      "Epoch 49/50\n",
      "60000/60000 [==============================] - 5s 77us/step - loss: 0.1118 - val_loss: 0.1098\n",
      "Epoch 50/50\n",
      "60000/60000 [==============================] - 5s 87us/step - loss: 0.1114 - val_loss: 0.1096\n"
     ]
    },
    {
     "data": {
      "text/plain": [
       "<keras.callbacks.History at 0x138ad3350>"
      ]
     },
     "execution_count": 40,
     "metadata": {},
     "output_type": "execute_result"
    }
   ],
   "source": [
    "autoencoder = Model(input_img, decoded)\n",
    "autoencoder.compile(optimizer='adadelta', loss='binary_crossentropy')\n",
    "\n",
    "autoencoder.fit(x_train, x_train,\n",
    "                epochs=50,\n",
    "                batch_size=256,\n",
    "                shuffle=True,\n",
    "                validation_data=(x_test, x_test))"
   ]
  }
 ],
 "metadata": {
  "kernelspec": {
   "display_name": "Python 2",
   "language": "python",
   "name": "python2"
  },
  "language_info": {
   "codemirror_mode": {
    "name": "ipython",
    "version": 2
   },
   "file_extension": ".py",
   "mimetype": "text/x-python",
   "name": "python",
   "nbconvert_exporter": "python",
   "pygments_lexer": "ipython2",
   "version": "2.7.13"
  }
 },
 "nbformat": 4,
 "nbformat_minor": 2
}
